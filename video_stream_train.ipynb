{
 "cells": [
  {
   "cell_type": "markdown",
   "id": "564961ad",
   "metadata": {},
   "source": [
    "# Video stream train"
   ]
  },
  {
   "cell_type": "code",
   "execution_count": 48,
   "id": "c2b18e8f",
   "metadata": {
    "ExecuteTime": {
     "end_time": "2023-01-01T20:55:19.516826Z",
     "start_time": "2023-01-01T20:55:19.500382Z"
    }
   },
   "outputs": [],
   "source": [
    "import numpy as np\n",
    "import pandas as pd\n",
    "import matplotlib.pyplot as plt\n",
    "import os\n",
    "import cv2\n",
    "import random\n",
    "import tensorflow as tf\n",
    "from tensorflow import keras\n",
    "from tensorflow.keras import layers\n",
    "from pathlib import Path\n",
    "\n",
    "from keras.layers.core import Dense,Flatten\n",
    "from tensorflow.keras.models import Sequential\n",
    "from tensorflow.keras.optimizers import Adam"
   ]
  },
  {
   "cell_type": "code",
   "execution_count": 2,
   "id": "9ba61979",
   "metadata": {
    "ExecuteTime": {
     "end_time": "2023-01-01T19:48:35.868640Z",
     "start_time": "2023-01-01T19:48:19.820918Z"
    }
   },
   "outputs": [
    {
     "name": "stdout",
     "output_type": "stream",
     "text": [
      "Default GPU Device:/device:GPU:0\n"
     ]
    }
   ],
   "source": [
    "if tf.test.gpu_device_name(): \n",
    "    print('Default GPU Device:{}'.format(tf.test.gpu_device_name()))\n",
    "else:\n",
    "    print(\"Please install GPU version of TF\")"
   ]
  },
  {
   "cell_type": "code",
   "execution_count": 106,
   "id": "87419a2f",
   "metadata": {
    "ExecuteTime": {
     "end_time": "2023-01-01T22:03:54.514830Z",
     "start_time": "2023-01-01T22:03:54.499203Z"
    }
   },
   "outputs": [],
   "source": [
    "path = \"Datasets/RAVDESS_frames/\"\n",
    "\n",
    "img_height = 224\n",
    "img_width = 224\n",
    "batch_size = 64\n",
    "num_classes = 8\n",
    "\n",
    "emotions = {1:'neutral', 2:'calm', 3:'happy', 4:'sad', 5:'angry', 6:'fear', 7:'disgust', 8:'surprise'}\n",
    "emotional_intensity = {1:'normal', 2:'strong'}\n",
    "\n",
    "num_frames_desired = 23     #number of frames per clip in order to have balanced classes"
   ]
  },
  {
   "cell_type": "markdown",
   "id": "3cf062ad",
   "metadata": {},
   "source": [
    "Train set load"
   ]
  },
  {
   "cell_type": "code",
   "execution_count": 113,
   "id": "6c1db5c9",
   "metadata": {
    "ExecuteTime": {
     "end_time": "2023-01-01T22:07:40.536129Z",
     "start_time": "2023-01-01T22:07:40.336945Z"
    }
   },
   "outputs": [],
   "source": [
    "filenames = []\n",
    "for (dirpath, dirnames, fn) in os.walk(path):\n",
    "    if fn != []:\n",
    "        if 'Actor_23' not in dirpath and 'Actor_24' not in dirpath:\n",
    "            o = [fn[0].split('-')[2]] * len(fn)\n",
    "            filenames.append(list(zip(fn, o)))"
   ]
  },
  {
   "cell_type": "code",
   "execution_count": 98,
   "id": "39be1290",
   "metadata": {
    "ExecuteTime": {
     "end_time": "2023-01-01T21:52:53.835169Z",
     "start_time": "2023-01-01T21:52:53.813191Z"
    }
   },
   "outputs": [
    {
     "data": {
      "text/plain": [
       "23"
      ]
     },
     "execution_count": 98,
     "metadata": {},
     "output_type": "execute_result"
    }
   ],
   "source": [
    "min([len(elem) for elem in filenames])"
   ]
  },
  {
   "cell_type": "code",
   "execution_count": 110,
   "id": "25886e9b",
   "metadata": {
    "ExecuteTime": {
     "end_time": "2023-01-01T22:04:43.047802Z",
     "start_time": "2023-01-01T22:04:43.028846Z"
    }
   },
   "outputs": [],
   "source": [
    "def sampling(list, num_frames_desired):\n",
    "    tot = []\n",
    "    for elem in list:\n",
    "        sampled_list = random.sample(elem, num_frames_desired)\n",
    "        tot += sampled_list\n",
    "    return(tot)\n",
    "\n",
    "def parse_image(filename):\n",
    "    image = tf.io.read_file(filename)\n",
    "    image = tf.image.decode_jpeg(image, channels=3)\n",
    "    image = tf.image.resize(image, [img_height, img_width])\n",
    "#     image = tf.image.resize(image, [img_height, img_width])\n",
    "    print(image.shape)\n",
    "    return image\n",
    "\n",
    "def configure_for_performance(ds):\n",
    "    ds = ds.shuffle(buffer_size=1000)\n",
    "    ds = ds.batch(batch_size)\n",
    "    ds = ds.repeat()\n",
    "    ds = ds.prefetch(buffer_size=tf.data.experimental.AUTOTUNE)\n",
    "    return ds"
   ]
  },
  {
   "cell_type": "code",
   "execution_count": 50,
   "id": "72dada05",
   "metadata": {
    "ExecuteTime": {
     "end_time": "2023-01-01T20:56:09.004736Z",
     "start_time": "2023-01-01T20:56:08.227675Z"
    }
   },
   "outputs": [
    {
     "name": "stdout",
     "output_type": "stream",
     "text": [
      "(224, 224, 3)\n"
     ]
    }
   ],
   "source": [
    "filenames_sampled = sampling(filenames, num_frames_desired)\n",
    "\n",
    "random.shuffle(filenames_sampled)\n",
    "\n",
    "zipped = [list(t) for t in zip(*filenames_sampled)]\n",
    "\n",
    "filenames = zipped[0]\n",
    "labels = zipped[1]\n",
    "\n",
    "filenames_ds = tf.data.Dataset.from_tensor_slices(filenames)\n",
    "images_ds = filenames_ds.map(parse_image, num_parallel_calls=tf.data.experimental.AUTOTUNE)\n",
    "labels_ds = tf.data.Dataset.from_tensor_slices(labels)\n",
    "ds = tf.data.Dataset.zip((images_ds, labels_ds))\n",
    "val_ds = configure_for_performance(ds)"
   ]
  },
  {
   "cell_type": "code",
   "execution_count": 52,
   "id": "3cc98943",
   "metadata": {
    "ExecuteTime": {
     "end_time": "2023-01-01T20:58:06.614805Z",
     "start_time": "2023-01-01T20:58:06.609807Z"
    }
   },
   "outputs": [
    {
     "name": "stdout",
     "output_type": "stream",
     "text": [
      "621\n"
     ]
    }
   ],
   "source": [
    "frame_number_train = len(filenames)\n",
    "step_per_epoch_train = frame_number_train // batch_size\n",
    "print(step_per_epoch_train)"
   ]
  }
 ],
 "metadata": {
  "kernelspec": {
   "display_name": "Python 3 (ipykernel)",
   "language": "python",
   "name": "python3"
  },
  "language_info": {
   "codemirror_mode": {
    "name": "ipython",
    "version": 3
   },
   "file_extension": ".py",
   "mimetype": "text/x-python",
   "name": "python",
   "nbconvert_exporter": "python",
   "pygments_lexer": "ipython3",
   "version": "3.9.7"
  },
  "toc": {
   "base_numbering": 1,
   "nav_menu": {},
   "number_sections": true,
   "sideBar": true,
   "skip_h1_title": false,
   "title_cell": "Table of Contents",
   "title_sidebar": "Contents",
   "toc_cell": false,
   "toc_position": {},
   "toc_section_display": true,
   "toc_window_display": false
  }
 },
 "nbformat": 4,
 "nbformat_minor": 5
}
