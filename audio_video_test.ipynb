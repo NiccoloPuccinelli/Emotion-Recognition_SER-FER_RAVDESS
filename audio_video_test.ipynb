{
 "cells": [
  {
   "cell_type": "code",
   "execution_count": 12,
   "metadata": {},
   "outputs": [],
   "source": [
    "import numpy as np\n",
    "# import pandas as pd\n",
    "import matplotlib.pyplot as plt\n",
    "import os\n",
    "# import cv2\n",
    "import random\n",
    "import tensorflow as tf\n",
    "from tensorflow import keras\n",
    "from sklearn.metrics import confusion_matrix, ConfusionMatrixDisplay\n",
    "import pandas as pd\n",
    "\n",
    "# Audio processing\n",
    "import librosa\n",
    "import librosa.display\n",
    "import audiomentations"
   ]
  },
  {
   "cell_type": "code",
   "execution_count": 13,
   "metadata": {},
   "outputs": [],
   "source": [
    "emotions_tras = {1:1, 2:4, 3:5, 4:0, 5:3, 6:2, 7:6}\n",
    "emotions = {0:'angry', 1:'calm', 2:'disgust', 3:'fear', 4:'happy', 5:'sad', 6:'surprise'}\n",
    "# emotions = {0:'neutral', 1:'calm', 2:'happy', 3:'sad', 4:'angry', 5:'fear', 6:'disgust', 7:'surprise'}\n",
    "\n",
    "# Paths\n",
    "dataset_video_path = \"Datasets/RAVDESS_frames_face_BW/\"\n",
    "dataset_audio_path = \"Datasets/Audio_Speech/\"\n",
    "models_video_path = \"Models/Video_stream/\"\n",
    "models_audio_path = \"Models/Audio_stream/\"\n",
    "\n",
    "height_orig = 224\n",
    "width_orig = 224\n",
    "height_targ = 112\n",
    "width_targ = 112\n",
    "\n",
    "num_classes = len(emotions)\n",
    "\n",
    "# test_actors = ['23', '24']\n",
    "test_actors = ['21', '22', '23', '24']"
   ]
  },
  {
   "attachments": {},
   "cell_type": "markdown",
   "id": "3d4a2239",
   "metadata": {},
   "source": [
    "## Dataset video creation"
   ]
  },
  {
   "cell_type": "code",
   "execution_count": 14,
   "metadata": {},
   "outputs": [
    {
     "data": {
      "text/plain": [
       "224"
      ]
     },
     "execution_count": 14,
     "metadata": {},
     "output_type": "execute_result"
    }
   ],
   "source": [
    "filenames_test = [] # test\n",
    "\n",
    "for dirpath, dirnames, fn in os.walk(dataset_video_path):\n",
    "    dirnames.sort()\n",
    "    # print(dirpath)\n",
    "    if fn != []:\n",
    "        class_temp = int(fn[0].split('-')[2]) - 1\n",
    "        if class_temp != 0:                                                     # exclude 'neutral' label\n",
    "            if any(act in dirpath for act in test_actors):                      # select only train actors\n",
    "                path = [os.path.join(dirpath, elem) for elem in fn]\n",
    "                label = [emotions_tras[class_temp]] * len(fn)                   # emotion trasposition\n",
    "                filenames_test.append(list(zip(path, label)))\n",
    "num_videos = len(filenames_test)\n",
    "num_videos"
   ]
  },
  {
   "cell_type": "code",
   "execution_count": 15,
   "metadata": {},
   "outputs": [],
   "source": [
    "def sampling(list, num_frames_desired):\n",
    "    tot = []\n",
    "    for elem in list:\n",
    "        sampled_list = random.sample(elem, num_frames_desired)\n",
    "        # tot.append(sampled_list)\n",
    "        tot += sampled_list\n",
    "    return(tot)\n",
    "\n",
    "def parse_image(filename):\n",
    "    \n",
    "    image = tf.io.read_file(filename)\n",
    "    image = tf.image.decode_jpeg(image, channels=1)\n",
    "    image = tf.image.convert_image_dtype(image, dtype=tf.float16)\n",
    "    image = tf.image.resize_with_crop_or_pad(image, height_orig, width_orig)\n",
    "    image = tf.image.resize(image, [height_targ, width_targ])\n",
    "    print('shape frames:', image.shape)\n",
    "    return image\n",
    "\n",
    "def configure_for_performance(ds, batch_size):\n",
    "    # ds = ds.shuffle(buffer_size=1000) # serve?\n",
    "    ds = ds.batch(batch_size)\n",
    "    ds = ds.repeat()\n",
    "    ds = ds.prefetch(buffer_size=tf.data.experimental.AUTOTUNE)\n",
    "    return ds\n",
    "\n",
    "def load_dataset(filenames, frames_per_vid):\n",
    "    print(\"frames per video:\", frames_per_vid) \n",
    "    batch_size = frames_per_vid\n",
    "\n",
    "    filenames_sampled = sampling(filenames, frames_per_vid)\n",
    "    # random.shuffle(filenames_sampled)\n",
    "    # print(len(filenames_sampled))\n",
    "\n",
    "    zipped = [list(t) for t in zip(*filenames_sampled)]\n",
    "\n",
    "    names = zipped[0]\n",
    "    labels = zipped[1]\n",
    "\n",
    "    names = tf.data.Dataset.from_tensor_slices(names)\n",
    "    images = names.map(parse_image, num_parallel_calls=tf.data.experimental.AUTOTUNE)\n",
    "\n",
    "    labels = [elem for elem in labels]\n",
    "    labels = tf.data.Dataset.from_tensor_slices(labels)\n",
    "\n",
    "    ds = tf.data.Dataset.zip((images, labels))\n",
    "    ds = configure_for_performance(ds, batch_size)\n",
    "\n",
    "    frame_number = len(filenames_sampled)\n",
    "    step_per_epoch = frame_number // batch_size\n",
    "    print('frames number:', frame_number, '\\nbatch size:', batch_size, '\\nbatch number:', step_per_epoch)\n",
    "    return ds, step_per_epoch"
   ]
  },
  {
   "cell_type": "code",
   "execution_count": 16,
   "metadata": {},
   "outputs": [
    {
     "name": "stdout",
     "output_type": "stream",
     "text": [
      "frames per video: 24\n",
      "shape frames: (112, 112, 1)\n",
      "frames number: 5376 \n",
      "batch size: 24 \n",
      "batch number: 224\n"
     ]
    }
   ],
   "source": [
    "frames_per_vid = min([len(elem) for elem in filenames_test])     # number of frames per clip in order to have balanced classes\n",
    "test_ds, step_per_epoch_test = load_dataset(filenames_test, frames_per_vid)"
   ]
  },
  {
   "cell_type": "code",
   "execution_count": 17,
   "metadata": {},
   "outputs": [
    {
     "data": {
      "text/plain": [
       "<tf.Tensor: shape=(24,), dtype=int32, numpy=\n",
       "array([1, 1, 1, 1, 1, 1, 1, 1, 1, 1, 1, 1, 1, 1, 1, 1, 1, 1, 1, 1, 1, 1,\n",
       "       1, 1])>"
      ]
     },
     "execution_count": 17,
     "metadata": {},
     "output_type": "execute_result"
    }
   ],
   "source": [
    "train_x, train_y = tf.compat.v1.data.make_one_shot_iterator(test_ds).get_next()\n",
    "train_y"
   ]
  },
  {
   "cell_type": "code",
   "execution_count": 18,
   "metadata": {},
   "outputs": [
    {
     "name": "stdout",
     "output_type": "stream",
     "text": [
      "(112, 112, 1)\n",
      "calm\n"
     ]
    },
    {
     "data": {
      "text/plain": [
       "<matplotlib.image.AxesImage at 0x2945a3b4eb0>"
      ]
     },
     "execution_count": 18,
     "metadata": {},
     "output_type": "execute_result"
    },
    {
     "data": {
      "image/png": "[encoded data removed]",
      "text/plain": [
       "<Figure size 432x288 with 1 Axes>"
      ]
     },
     "metadata": {
      "needs_background": "light"
     },
     "output_type": "display_data"
    }
   ],
   "source": [
    "b = test_ds.unbatch().take(1)\n",
    "\n",
    "for elem in b:\n",
    "    print(elem[0].shape)\n",
    "    print(emotions[int(elem[1])])\n",
    "plt.imshow(elem[0], cmap='gray')"
   ]
  },
  {
   "attachments": {},
   "cell_type": "markdown",
   "metadata": {},
   "source": [
    "### Load best model"
   ]
  },
  {
   "cell_type": "code",
   "execution_count": 20,
   "metadata": {},
   "outputs": [
    {
     "name": "stdout",
     "output_type": "stream",
     "text": [
      "Model: \"DCNN\"\n",
      "_________________________________________________________________\n",
      " Layer (type)                Output Shape              Param #   \n",
      "=================================================================\n",
      " conv2d_1 (Conv2D)           (None, 112, 112, 32)      832       \n",
      "                                                                 \n",
      " batchnorm_1 (BatchNormaliza  (None, 112, 112, 32)     128       \n",
      " tion)                                                           \n",
      "                                                                 \n",
      " activation (Activation)     (None, 112, 112, 32)      0         \n",
      "                                                                 \n",
      " maxpool2d_0 (MaxPooling2D)  (None, 56, 56, 32)        0         \n",
      "                                                                 \n",
      " conv2d_2 (Conv2D)           (None, 56, 56, 64)        51264     \n",
      "                                                                 \n",
      " batchnorm_2 (BatchNormaliza  (None, 56, 56, 64)       256       \n",
      " tion)                                                           \n",
      "                                                                 \n",
      " maxpool2d_1 (MaxPooling2D)  (None, 28, 28, 64)        0         \n",
      "                                                                 \n",
      " dropout_1 (Dropout)         (None, 28, 28, 64)        0         \n",
      "                                                                 \n",
      " conv2d_4 (Conv2D)           (None, 28, 28, 128)       73856     \n",
      "                                                                 \n",
      " batchnorm_4 (BatchNormaliza  (None, 28, 28, 128)      512       \n",
      " tion)                                                           \n",
      "                                                                 \n",
      " maxpool2d_2 (MaxPooling2D)  (None, 14, 14, 128)       0         \n",
      "                                                                 \n",
      " dropout_2 (Dropout)         (None, 14, 14, 128)       0         \n",
      "                                                                 \n",
      " conv2d_5 (Conv2D)           (None, 14, 14, 256)       295168    \n",
      "                                                                 \n",
      " batchnorm_5 (BatchNormaliza  (None, 14, 14, 256)      1024      \n",
      " tion)                                                           \n",
      "                                                                 \n",
      " maxpool2d_3 (MaxPooling2D)  (None, 7, 7, 256)         0         \n",
      "                                                                 \n",
      " dropout_3 (Dropout)         (None, 7, 7, 256)         0         \n",
      "                                                                 \n",
      " flatten (Flatten)           (None, 12544)             0         \n",
      "                                                                 \n",
      " dense_1 (Dense)             (None, 128)               1605760   \n",
      "                                                                 \n",
      " batchnorm_7 (BatchNormaliza  (None, 128)              512       \n",
      " tion)                                                           \n",
      "                                                                 \n",
      " dropout_4 (Dropout)         (None, 128)               0         \n",
      "                                                                 \n",
      " out_layer (Dense)           (None, 7)                 903       \n",
      "                                                                 \n",
      "=================================================================\n",
      "Total params: 2,030,215\n",
      "Trainable params: 2,028,999\n",
      "Non-trainable params: 1,216\n",
      "_________________________________________________________________\n"
     ]
    }
   ],
   "source": [
    "models_list = os.listdir(models_video_path)\n",
    "\n",
    "acc = [float(model.split('[')[1].split(']')[0]) for model in models_list]\n",
    "idx = acc.index(max(acc))                                                       # index of best model\n",
    "\n",
    "model_video = keras.models.load_model(models_video_path + models_list[idx])\n",
    "model_video.summary()"
   ]
  },
  {
   "attachments": {},
   "cell_type": "markdown",
   "metadata": {},
   "source": [
    "## Dataset audio creation"
   ]
  },
  {
   "cell_type": "code",
   "execution_count": 58,
   "metadata": {},
   "outputs": [
    {
     "data": {
      "text/plain": [
       "0"
      ]
     },
     "execution_count": 58,
     "metadata": {},
     "output_type": "execute_result"
    }
   ],
   "source": [
    "filenames_test = [] # test\n",
    "\n",
    "path = []\n",
    "label = []\n",
    "\n",
    "for dirpath, dirnames, fn in os.walk(dataset_audio_path):\n",
    "    dirnames.sort()\n",
    "    if fn != []:\n",
    "        for elem in fn:\n",
    "            class_temp = int(elem.split('-')[2]) - 1\n",
    "            if class_temp != 0:\n",
    "                path.append(os.path.join(dirpath, elem))\n",
    "        # print(int(fn[0].split('-')[2]))\n",
    "        # class_temp = int(fn[0].split('-')[2]) - 1\n",
    "        # print(class_temp)\n",
    "        # if class_temp != 0:  \n",
    "        #     print(class_temp)                                                   # exclude 'neutral' label\n",
    "    #         if any(act in dirpath for act in test_actors):                      # select only train actors\n",
    "    #             path = [os.path.join(dirpath, elem) for elem in fn]\n",
    "    #             label = [emotions_tras[class_temp]] * len(fn)                   # emotion trasposition\n",
    "    #             filenames_test.append(list(zip(path, label)))\n",
    "num_videos = len(filenames_test)\n",
    "num_videos"
   ]
  },
  {
   "cell_type": "code",
   "execution_count": null,
   "metadata": {},
   "outputs": [],
   "source": [
    "models_list = os.listdir(models_audio_path)\n",
    "\n",
    "model_audio = keras.models.load_model(models_audio_path + models_list[0])\n",
    "model_audio.summary()"
   ]
  },
  {
   "cell_type": "code",
   "execution_count": null,
   "metadata": {},
   "outputs": [],
   "source": []
  },
  {
   "cell_type": "code",
   "execution_count": null,
   "metadata": {},
   "outputs": [],
   "source": [
    "lb = LabelEncoder()\n",
    "y_train = np_utils.to_categorical(lb.fit_transform(y_train))\n",
    "y_test = np_utils.to_categorical(lb.fit_transform(y_test))"
   ]
  },
  {
   "cell_type": "code",
   "execution_count": null,
   "metadata": {},
   "outputs": [],
   "source": [
    "X_test = np.expand_dims(X_test, axis = 3)"
   ]
  },
  {
   "attachments": {},
   "cell_type": "markdown",
   "metadata": {},
   "source": [
    "## Prediction video"
   ]
  },
  {
   "attachments": {},
   "cell_type": "markdown",
   "metadata": {},
   "source": [
    "### Evaluate single frame"
   ]
  },
  {
   "cell_type": "code",
   "execution_count": 21,
   "metadata": {},
   "outputs": [
    {
     "name": "stdout",
     "output_type": "stream",
     "text": [
      "224/224 [==============================] - 6s 11ms/step - loss: 1.5807 - sparse_categorical_accuracy: 0.5277\n",
      "accuratezza single frame: 0.5277\n"
     ]
    }
   ],
   "source": [
    "loss_single_frame, acc_single_frame = model_video.evaluate(test_ds, steps=step_per_epoch_test)\n",
    "print('accuratezza single frame:', round(acc_single_frame, 4))"
   ]
  },
  {
   "cell_type": "code",
   "execution_count": 22,
   "metadata": {},
   "outputs": [
    {
     "name": "stdout",
     "output_type": "stream",
     "text": [
      "224/224 [==============================] - 2s 9ms/step\n"
     ]
    }
   ],
   "source": [
    "predic = model_video.predict(test_ds, steps=step_per_epoch_test).argmax(axis=1)\n",
    "ground = [elem[0][1]  for elem in filenames_test]\n",
    "ground = np.repeat(ground, frames_per_vid)"
   ]
  },
  {
   "cell_type": "code",
   "execution_count": 23,
   "metadata": {},
   "outputs": [
    {
     "data": {
      "text/plain": [
       "<sklearn.metrics._plot.confusion_matrix.ConfusionMatrixDisplay at 0x29446ae92e0>"
      ]
     },
     "execution_count": 23,
     "metadata": {},
     "output_type": "execute_result"
    },
    {
     "data": {
      "image/png": "[encoded data removed]",
      "text/plain": [
       "<Figure size 432x288 with 2 Axes>"
      ]
     },
     "metadata": {
      "needs_background": "light"
     },
     "output_type": "display_data"
    }
   ],
   "source": [
    "cm = confusion_matrix(ground, predic)\n",
    "disp = ConfusionMatrixDisplay(cm, display_labels=list(emotions.values()))\n",
    "disp.plot()"
   ]
  },
  {
   "cell_type": "code",
   "execution_count": 24,
   "metadata": {},
   "outputs": [
    {
     "data": {
      "text/html": [
       "<div>\n",
       "<style scoped>\n",
       "    .dataframe tbody tr th:only-of-type {\n",
       "        vertical-align: middle;\n",
       "    }\n",
       "\n",
       "    .dataframe tbody tr th {\n",
       "        vertical-align: top;\n",
       "    }\n",
       "\n",
       "    .dataframe thead th {\n",
       "        text-align: right;\n",
       "    }\n",
       "</style>\n",
       "<table border=\"1\" class=\"dataframe\">\n",
       "  <thead>\n",
       "    <tr style=\"text-align: right;\">\n",
       "      <th></th>\n",
       "      <th>Recall</th>\n",
       "      <th>Precision</th>\n",
       "    </tr>\n",
       "  </thead>\n",
       "  <tbody>\n",
       "    <tr>\n",
       "      <th>angry</th>\n",
       "      <td>0.40</td>\n",
       "      <td>0.54</td>\n",
       "    </tr>\n",
       "    <tr>\n",
       "      <th>calm</th>\n",
       "      <td>0.47</td>\n",
       "      <td>0.69</td>\n",
       "    </tr>\n",
       "    <tr>\n",
       "      <th>disgust</th>\n",
       "      <td>0.72</td>\n",
       "      <td>0.65</td>\n",
       "    </tr>\n",
       "    <tr>\n",
       "      <th>fear</th>\n",
       "      <td>0.63</td>\n",
       "      <td>0.38</td>\n",
       "    </tr>\n",
       "    <tr>\n",
       "      <th>happy</th>\n",
       "      <td>0.66</td>\n",
       "      <td>0.74</td>\n",
       "    </tr>\n",
       "    <tr>\n",
       "      <th>sad</th>\n",
       "      <td>0.36</td>\n",
       "      <td>0.46</td>\n",
       "    </tr>\n",
       "    <tr>\n",
       "      <th>surprise</th>\n",
       "      <td>0.45</td>\n",
       "      <td>0.40</td>\n",
       "    </tr>\n",
       "  </tbody>\n",
       "</table>\n",
       "</div>"
      ],
      "text/plain": [
       "          Recall  Precision\n",
       "angry       0.40       0.54\n",
       "calm        0.47       0.69\n",
       "disgust     0.72       0.65\n",
       "fear        0.63       0.38\n",
       "happy       0.66       0.74\n",
       "sad         0.36       0.46\n",
       "surprise    0.45       0.40"
      ]
     },
     "execution_count": 24,
     "metadata": {},
     "output_type": "execute_result"
    }
   ],
   "source": [
    "recall = np.diag(cm) / np.sum(cm, axis = 1)\n",
    "precision = np.diag(cm) / np.sum(cm, axis = 0)\n",
    "\n",
    "stats = pd.DataFrame({'Recall': recall, 'Precision': precision}, index=emotions.values())\n",
    "round(stats, 2)"
   ]
  },
  {
   "attachments": {},
   "cell_type": "markdown",
   "metadata": {},
   "source": [
    "### Evaluate full video"
   ]
  },
  {
   "cell_type": "code",
   "execution_count": 25,
   "metadata": {},
   "outputs": [
    {
     "name": "stdout",
     "output_type": "stream",
     "text": [
      "224/224 [==============================] - 2s 10ms/step\n"
     ]
    }
   ],
   "source": [
    "pred = model_video.predict(test_ds, steps=step_per_epoch_test)"
   ]
  },
  {
   "cell_type": "code",
   "execution_count": 26,
   "metadata": {},
   "outputs": [
    {
     "name": "stdout",
     "output_type": "stream",
     "text": [
      "ground truth:\t 1\n",
      "predicted:\t 1\n"
     ]
    },
    {
     "data": {
      "text/plain": [
       "array([1.18160285e-01, 1.47508430e+01, 2.23013922e-03, 7.26261377e-01,\n",
       "       6.61967471e-02, 4.38067627e+00, 3.95563340e+00], dtype=float32)"
      ]
     },
     "execution_count": 26,
     "metadata": {},
     "output_type": "execute_result"
    }
   ],
   "source": [
    "example_id = 0\n",
    "example = np.array_split(pred, num_videos)[example_id]\n",
    "\n",
    "print('ground truth:\\t', filenames_test[example_id][0][1])\n",
    "\n",
    "# print('predicted:\\t', np.median(o, axis=0).argmax())\n",
    "# print('predicted:\\t', np.sum(o, axis=0).argmax())\n",
    "print('predicted:\\t', np.mean(example, axis=0).argmax())\n",
    "np.sum(example, axis=0)"
   ]
  },
  {
   "cell_type": "code",
   "execution_count": 27,
   "metadata": {},
   "outputs": [
    {
     "name": "stdout",
     "output_type": "stream",
     "text": [
      "accuracy full video:\t 0.5938\n",
      "Num videos:\t\t 224\n"
     ]
    }
   ],
   "source": [
    "pred_list = np.array_split(pred, num_videos)\n",
    "\n",
    "ground = []\n",
    "predic = []\n",
    "\n",
    "i = 0\n",
    "for count, video in enumerate(pred_list):\n",
    "    predic.append(np.mean(video, axis=0).argmax())\n",
    "    # predic.append(np.average(video, axis=0, weights=np.max(video, axis=1)).argmax()) # weighted mean on highest prediction value\n",
    "    ground.append(filenames_test[count][0][1])\n",
    "    \n",
    "    if predic[count] == ground[count]:\n",
    "        i += 1\n",
    "\n",
    "print('accuracy full video:\\t', round(i/len(pred_list), 4))\n",
    "print('Num videos:\\t\\t', count+1)"
   ]
  },
  {
   "cell_type": "code",
   "execution_count": 28,
   "metadata": {},
   "outputs": [
    {
     "data": {
      "text/plain": [
       "<sklearn.metrics._plot.confusion_matrix.ConfusionMatrixDisplay at 0x29413deb8e0>"
      ]
     },
     "execution_count": 28,
     "metadata": {},
     "output_type": "execute_result"
    },
    {
     "data": {
      "image/png": "[encoded data removed]",
      "text/plain": [
       "<Figure size 432x288 with 2 Axes>"
      ]
     },
     "metadata": {
      "needs_background": "light"
     },
     "output_type": "display_data"
    }
   ],
   "source": [
    "cm = confusion_matrix(ground, predic)\n",
    "disp = ConfusionMatrixDisplay(cm, display_labels=list(emotions.values()))\n",
    "disp.plot()"
   ]
  },
  {
   "cell_type": "code",
   "execution_count": 29,
   "metadata": {},
   "outputs": [
    {
     "data": {
      "text/html": [
       "<div>\n",
       "<style scoped>\n",
       "    .dataframe tbody tr th:only-of-type {\n",
       "        vertical-align: middle;\n",
       "    }\n",
       "\n",
       "    .dataframe tbody tr th {\n",
       "        vertical-align: top;\n",
       "    }\n",
       "\n",
       "    .dataframe thead th {\n",
       "        text-align: right;\n",
       "    }\n",
       "</style>\n",
       "<table border=\"1\" class=\"dataframe\">\n",
       "  <thead>\n",
       "    <tr style=\"text-align: right;\">\n",
       "      <th></th>\n",
       "      <th>Recall</th>\n",
       "      <th>Precision</th>\n",
       "    </tr>\n",
       "  </thead>\n",
       "  <tbody>\n",
       "    <tr>\n",
       "      <th>angry</th>\n",
       "      <td>0.38</td>\n",
       "      <td>0.60</td>\n",
       "    </tr>\n",
       "    <tr>\n",
       "      <th>calm</th>\n",
       "      <td>0.53</td>\n",
       "      <td>0.81</td>\n",
       "    </tr>\n",
       "    <tr>\n",
       "      <th>disgust</th>\n",
       "      <td>0.84</td>\n",
       "      <td>0.69</td>\n",
       "    </tr>\n",
       "    <tr>\n",
       "      <th>fear</th>\n",
       "      <td>0.75</td>\n",
       "      <td>0.44</td>\n",
       "    </tr>\n",
       "    <tr>\n",
       "      <th>happy</th>\n",
       "      <td>0.72</td>\n",
       "      <td>0.82</td>\n",
       "    </tr>\n",
       "    <tr>\n",
       "      <th>sad</th>\n",
       "      <td>0.41</td>\n",
       "      <td>0.59</td>\n",
       "    </tr>\n",
       "    <tr>\n",
       "      <th>surprise</th>\n",
       "      <td>0.53</td>\n",
       "      <td>0.44</td>\n",
       "    </tr>\n",
       "  </tbody>\n",
       "</table>\n",
       "</div>"
      ],
      "text/plain": [
       "          Recall  Precision\n",
       "angry       0.38       0.60\n",
       "calm        0.53       0.81\n",
       "disgust     0.84       0.69\n",
       "fear        0.75       0.44\n",
       "happy       0.72       0.82\n",
       "sad         0.41       0.59\n",
       "surprise    0.53       0.44"
      ]
     },
     "execution_count": 29,
     "metadata": {},
     "output_type": "execute_result"
    }
   ],
   "source": [
    "recall = np.diag(cm) / np.sum(cm, axis = 1)\n",
    "precision = np.diag(cm) / np.sum(cm, axis = 0)\n",
    "\n",
    "stats = pd.DataFrame({'Recall': recall, 'Precision': precision}, index=emotions.values())\n",
    "round(stats, 2)"
   ]
  },
  {
   "attachments": {},
   "cell_type": "markdown",
   "metadata": {},
   "source": [
    "## Prediction audio"
   ]
  }
 ],
 "metadata": {
  "kernelspec": {
   "display_name": "base",
   "language": "python",
   "name": "python3"
  },
  "language_info": {
   "codemirror_mode": {
    "name": "ipython",
    "version": 3
   },
   "file_extension": ".py",
   "mimetype": "text/x-python",
   "name": "python",
   "nbconvert_exporter": "python",
   "pygments_lexer": "ipython3",
   "version": "3.9.7"
  },
  "orig_nbformat": 4,
  "vscode": {
   "interpreter": {
    "hash": "ad2bdc8ecc057115af97d19610ffacc2b4e99fae6737bb82f5d7fb13d2f2c186"
   }
  }
 },
 "nbformat": 4,
 "nbformat_minor": 2
}
