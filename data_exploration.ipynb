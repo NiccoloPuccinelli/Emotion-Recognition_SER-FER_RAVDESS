{
 "cells": [
  {
   "cell_type": "markdown",
   "id": "3f1ccaec",
   "metadata": {},
   "source": [
    "# Data exploration"
   ]
  },
  {
   "cell_type": "markdown",
   "id": "7fd17fad",
   "metadata": {},
   "source": [
    "Features\n",
    "- Modality (01 = full-AV, 02 = video-only, 03 = audio-only).\n",
    "- Vocal channel (01 = speech, 02 = song).\n",
    "- Emotion (01 = neutral, 02 = calm, 03 = happy, 04 = sad, 05 = angry, 06 = fearful, 07 = disgust, 08 = surprised).\n",
    "- Emotional intensity (01 = normal, 02 = strong). NOTE: There is no strong intensity for the 'neutral' emotion.\n",
    "- Statement (01 = \"Kids are talking by the door\", 02 = \"Dogs are sitting by the door\").\n",
    "- Repetition (01 = 1st repetition, 02 = 2nd repetition).\n",
    "- Actor (01 to 24. Odd numbered actors are male, even numbered actors are female)."
   ]
  },
  {
   "cell_type": "markdown",
   "id": "e22dcf48",
   "metadata": {},
   "source": [
    "NB We considered only the speech videos (vocal channel=01) with both audio and video (modality=01)"
   ]
  },
  {
   "cell_type": "code",
   "execution_count": 130,
   "id": "960fb0ec",
   "metadata": {
    "ExecuteTime": {
     "end_time": "2022-12-30T16:04:43.305839Z",
     "start_time": "2022-12-30T16:04:43.290846Z"
    }
   },
   "outputs": [],
   "source": [
    "emotions = {1:'neutral', 2:'calm', 3:'happy', 4:'sad', 5:'angry', 6:'fear', 7:'disgust', 8:'surprise'}\n",
    "emotional_intensity = {1:'normal', 2:'strong'}\n",
    "\n",
    "sample_rate = 16000"
   ]
  },
  {
   "cell_type": "code",
   "execution_count": 48,
   "id": "666b1cd7",
   "metadata": {
    "ExecuteTime": {
     "end_time": "2022-12-30T14:57:30.920357Z",
     "start_time": "2022-12-30T14:57:29.425282Z"
    }
   },
   "outputs": [],
   "source": [
    "import re\n",
    "import os\n",
    "import pandas as pd"
   ]
  },
  {
   "cell_type": "code",
   "execution_count": 121,
   "id": "ca71179e",
   "metadata": {
    "ExecuteTime": {
     "end_time": "2022-12-30T15:58:48.267305Z",
     "start_time": "2022-12-30T15:58:48.250268Z"
    }
   },
   "outputs": [],
   "source": [
    "path = \"Datasets/RAVDESS/\""
   ]
  },
  {
   "cell_type": "code",
   "execution_count": 122,
   "id": "16724054",
   "metadata": {
    "ExecuteTime": {
     "end_time": "2022-12-30T15:59:39.605364Z",
     "start_time": "2022-12-30T15:59:39.588099Z"
    }
   },
   "outputs": [
    {
     "data": {
      "text/plain": [
       "['01-01-01-01-01-01-01.mp4',\n",
       " '01-01-01-01-01-02-01.mp4',\n",
       " '01-01-01-01-02-01-01.mp4',\n",
       " '01-01-01-01-02-02-01.mp4',\n",
       " '01-01-02-01-01-01-01.mp4']"
      ]
     },
     "execution_count": 122,
     "metadata": {},
     "output_type": "execute_result"
    }
   ],
   "source": [
    "filenames = []\n",
    "feats = []\n",
    "\n",
    "for (dirpath, dirnames, fn) in os.walk(path):\n",
    "    for name in fn:\n",
    "        temp = name.split('.')[0].split('-')[2:]\n",
    "        feats.append(temp)\n",
    "        filenames.append(name)\n",
    "        \n",
    "filenames[:5]"
   ]
  },
  {
   "cell_type": "code",
   "execution_count": 127,
   "id": "549b22ef",
   "metadata": {
    "ExecuteTime": {
     "end_time": "2022-12-30T16:02:46.526947Z",
     "start_time": "2022-12-30T16:02:46.507266Z"
    }
   },
   "outputs": [
    {
     "data": {
      "text/html": [
       "<div>\n",
       "<style scoped>\n",
       "    .dataframe tbody tr th:only-of-type {\n",
       "        vertical-align: middle;\n",
       "    }\n",
       "\n",
       "    .dataframe tbody tr th {\n",
       "        vertical-align: top;\n",
       "    }\n",
       "\n",
       "    .dataframe thead th {\n",
       "        text-align: right;\n",
       "    }\n",
       "</style>\n",
       "<table border=\"1\" class=\"dataframe\">\n",
       "  <thead>\n",
       "    <tr style=\"text-align: right;\">\n",
       "      <th></th>\n",
       "      <th>emotion</th>\n",
       "      <th>emotional intensity</th>\n",
       "      <th>statement</th>\n",
       "      <th>repetition</th>\n",
       "      <th>actor</th>\n",
       "    </tr>\n",
       "    <tr>\n",
       "      <th>index</th>\n",
       "      <th></th>\n",
       "      <th></th>\n",
       "      <th></th>\n",
       "      <th></th>\n",
       "      <th></th>\n",
       "    </tr>\n",
       "  </thead>\n",
       "  <tbody>\n",
       "    <tr>\n",
       "      <th>01-01-01-01-01-01-01.mp4</th>\n",
       "      <td>neutral</td>\n",
       "      <td>normal</td>\n",
       "      <td>1</td>\n",
       "      <td>1</td>\n",
       "      <td>1</td>\n",
       "    </tr>\n",
       "    <tr>\n",
       "      <th>01-01-01-01-01-02-01.mp4</th>\n",
       "      <td>neutral</td>\n",
       "      <td>normal</td>\n",
       "      <td>1</td>\n",
       "      <td>2</td>\n",
       "      <td>1</td>\n",
       "    </tr>\n",
       "    <tr>\n",
       "      <th>01-01-01-01-02-01-01.mp4</th>\n",
       "      <td>neutral</td>\n",
       "      <td>normal</td>\n",
       "      <td>2</td>\n",
       "      <td>1</td>\n",
       "      <td>1</td>\n",
       "    </tr>\n",
       "    <tr>\n",
       "      <th>01-01-01-01-02-02-01.mp4</th>\n",
       "      <td>neutral</td>\n",
       "      <td>normal</td>\n",
       "      <td>2</td>\n",
       "      <td>2</td>\n",
       "      <td>1</td>\n",
       "    </tr>\n",
       "    <tr>\n",
       "      <th>01-01-02-01-01-01-01.mp4</th>\n",
       "      <td>calm</td>\n",
       "      <td>normal</td>\n",
       "      <td>1</td>\n",
       "      <td>1</td>\n",
       "      <td>1</td>\n",
       "    </tr>\n",
       "    <tr>\n",
       "      <th>...</th>\n",
       "      <td>...</td>\n",
       "      <td>...</td>\n",
       "      <td>...</td>\n",
       "      <td>...</td>\n",
       "      <td>...</td>\n",
       "    </tr>\n",
       "    <tr>\n",
       "      <th>01-01-08-01-02-02-24.mp4</th>\n",
       "      <td>surprise</td>\n",
       "      <td>normal</td>\n",
       "      <td>2</td>\n",
       "      <td>2</td>\n",
       "      <td>24</td>\n",
       "    </tr>\n",
       "    <tr>\n",
       "      <th>01-01-08-02-01-01-24.mp4</th>\n",
       "      <td>surprise</td>\n",
       "      <td>strong</td>\n",
       "      <td>1</td>\n",
       "      <td>1</td>\n",
       "      <td>24</td>\n",
       "    </tr>\n",
       "    <tr>\n",
       "      <th>01-01-08-02-01-02-24.mp4</th>\n",
       "      <td>surprise</td>\n",
       "      <td>strong</td>\n",
       "      <td>1</td>\n",
       "      <td>2</td>\n",
       "      <td>24</td>\n",
       "    </tr>\n",
       "    <tr>\n",
       "      <th>01-01-08-02-02-01-24.mp4</th>\n",
       "      <td>surprise</td>\n",
       "      <td>strong</td>\n",
       "      <td>2</td>\n",
       "      <td>1</td>\n",
       "      <td>24</td>\n",
       "    </tr>\n",
       "    <tr>\n",
       "      <th>01-01-08-02-02-02-24.mp4</th>\n",
       "      <td>surprise</td>\n",
       "      <td>strong</td>\n",
       "      <td>2</td>\n",
       "      <td>2</td>\n",
       "      <td>24</td>\n",
       "    </tr>\n",
       "  </tbody>\n",
       "</table>\n",
       "<p>1440 rows × 5 columns</p>\n",
       "</div>"
      ],
      "text/plain": [
       "                           emotion emotional intensity  statement  repetition  \\\n",
       "index                                                                           \n",
       "01-01-01-01-01-01-01.mp4   neutral              normal          1           1   \n",
       "01-01-01-01-01-02-01.mp4   neutral              normal          1           2   \n",
       "01-01-01-01-02-01-01.mp4   neutral              normal          2           1   \n",
       "01-01-01-01-02-02-01.mp4   neutral              normal          2           2   \n",
       "01-01-02-01-01-01-01.mp4      calm              normal          1           1   \n",
       "...                            ...                 ...        ...         ...   \n",
       "01-01-08-01-02-02-24.mp4  surprise              normal          2           2   \n",
       "01-01-08-02-01-01-24.mp4  surprise              strong          1           1   \n",
       "01-01-08-02-01-02-24.mp4  surprise              strong          1           2   \n",
       "01-01-08-02-02-01-24.mp4  surprise              strong          2           1   \n",
       "01-01-08-02-02-02-24.mp4  surprise              strong          2           2   \n",
       "\n",
       "                          actor  \n",
       "index                            \n",
       "01-01-01-01-01-01-01.mp4      1  \n",
       "01-01-01-01-01-02-01.mp4      1  \n",
       "01-01-01-01-02-01-01.mp4      1  \n",
       "01-01-01-01-02-02-01.mp4      1  \n",
       "01-01-02-01-01-01-01.mp4      1  \n",
       "...                         ...  \n",
       "01-01-08-01-02-02-24.mp4     24  \n",
       "01-01-08-02-01-01-24.mp4     24  \n",
       "01-01-08-02-01-02-24.mp4     24  \n",
       "01-01-08-02-02-01-24.mp4     24  \n",
       "01-01-08-02-02-02-24.mp4     24  \n",
       "\n",
       "[1440 rows x 5 columns]"
      ]
     },
     "execution_count": 127,
     "metadata": {},
     "output_type": "execute_result"
    }
   ],
   "source": [
    "df = pd.DataFrame(feats, columns = ['emotion', 'emotional intensity', 'statement', 'repetition', 'actor']).astype(int)\n",
    "\n",
    "df['emotion'] = df['emotion'].map(emotions)\n",
    "df['emotional intensity'] = df['emotional intensity'].map(emotional_intensity)\n",
    "\n",
    "df['index'] = filenames\n",
    "df.set_index('index', inplace=True)\n",
    "\n",
    "df"
   ]
  }
 ],
 "metadata": {
  "kernelspec": {
   "display_name": "Python 3 (ipykernel)",
   "language": "python",
   "name": "python3"
  },
  "language_info": {
   "codemirror_mode": {
    "name": "ipython",
    "version": 3
   },
   "file_extension": ".py",
   "mimetype": "text/x-python",
   "name": "python",
   "nbconvert_exporter": "python",
   "pygments_lexer": "ipython3",
   "version": "3.9.7"
  },
  "toc": {
   "base_numbering": 1,
   "nav_menu": {},
   "number_sections": true,
   "sideBar": true,
   "skip_h1_title": false,
   "title_cell": "Table of Contents",
   "title_sidebar": "Contents",
   "toc_cell": false,
   "toc_position": {},
   "toc_section_display": true,
   "toc_window_display": false
  }
 },
 "nbformat": 4,
 "nbformat_minor": 5
}
