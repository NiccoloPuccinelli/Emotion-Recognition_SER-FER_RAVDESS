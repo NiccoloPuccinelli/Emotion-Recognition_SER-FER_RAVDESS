{
 "cells": [
  {
   "cell_type": "code",
   "execution_count": 1,
   "metadata": {},
   "outputs": [],
   "source": [
    "import numpy as np\n",
    "# import pandas as pd\n",
    "import matplotlib.pyplot as plt\n",
    "import os\n",
    "# import cv2\n",
    "import random\n",
    "import tensorflow as tf\n",
    "from tensorflow import keras\n",
    "# from tensorflow.keras import layers\n",
    "# from pathlib import Path\n",
    "\n",
    "# from keras.layers.core import Dense,Flatten\n",
    "# from tensorflow.keras.models import Sequential\n",
    "# from tensorflow.keras.optimizers import Adam"
   ]
  },
  {
   "attachments": {},
   "cell_type": "markdown",
   "id": "3d4a2239",
   "metadata": {},
   "source": [
    "## Dataset creation"
   ]
  },
  {
   "cell_type": "code",
   "execution_count": 2,
   "metadata": {},
   "outputs": [],
   "source": [
    "emotions_tras = {1:1, 2:4, 3:5, 4:0, 5:3, 6:2, 7:6}\n",
    "emotions = {0:'angry', 1:'calm', 2:'disgust', 3:'fear', 4:'happy', 5:'sad', 6:'surprise'}\n",
    "# emotions = {0:'neutral', 1:'calm', 2:'happy', 3:'sad', 4:'angry', 5:'fear', 6:'disgust', 7:'surprise'}\n",
    "# emotional_intensity = {1:'normal', 2:'strong'}\n",
    "\n",
    "# dataset_path = \"Datasets/RAVDESS_frames/\"\n",
    "dataset_path = \"Datasets/RAVDESS_frames_face_BW/\"\n",
    "models_path = \"Models/\"\n",
    "\n",
    "height_orig = 224\n",
    "width_orig = 224\n",
    "height_targ = 112\n",
    "width_targ = 112\n",
    "\n",
    "# batch_size = 64\n",
    "num_classes = len(emotions)\n",
    "\n",
    "test_actors = ['23', '24']"
   ]
  },
  {
   "cell_type": "code",
   "execution_count": 3,
   "metadata": {},
   "outputs": [
    {
     "data": {
      "text/plain": [
       "112"
      ]
     },
     "execution_count": 3,
     "metadata": {},
     "output_type": "execute_result"
    }
   ],
   "source": [
    "filenames_test = [] # test\n",
    "\n",
    "for dirpath, dirnames, fn in os.walk(dataset_path):\n",
    "    dirnames.sort()\n",
    "    # print(dirpath)\n",
    "    if fn != []:\n",
    "        class_temp = int(fn[0].split('-')[2]) - 1\n",
    "        if class_temp != 0:                                                     # exclude 'neutral' label\n",
    "            if any(act in dirpath for act in test_actors):                      # select only train actors\n",
    "                path = [os.path.join(dirpath, elem) for elem in fn]\n",
    "                label = [emotions_tras[class_temp]] * len(fn)                   # emotion trasposition\n",
    "                filenames_test.append(list(zip(path, label)))\n",
    "num_videos = len(filenames_test)\n",
    "num_videos"
   ]
  },
  {
   "cell_type": "code",
   "execution_count": 4,
   "metadata": {},
   "outputs": [],
   "source": [
    "def sampling(list, num_frames_desired):\n",
    "    tot = []\n",
    "    for elem in list:\n",
    "        sampled_list = random.sample(elem, num_frames_desired)\n",
    "        # tot.append(sampled_list)\n",
    "        tot += sampled_list\n",
    "    return(tot)\n",
    "\n",
    "def parse_image(filename):\n",
    "    image = tf.io.read_file(filename)\n",
    "    image = tf.image.decode_jpeg(image, channels=1)\n",
    "    image = tf.image.convert_image_dtype(image, dtype=tf.float16)\n",
    "    image = tf.image.resize_with_crop_or_pad(image, height_orig, width_orig)\n",
    "    image = tf.image.resize(image, [height_targ, width_targ])\n",
    "    print('shape frames:', image.shape)\n",
    "    return image\n",
    "\n",
    "def configure_for_performance(ds, batch_size):\n",
    "    # ds = ds.shuffle(buffer_size=1000) # serve?\n",
    "    ds = ds.batch(batch_size)\n",
    "    ds = ds.repeat()\n",
    "    ds = ds.prefetch(buffer_size=tf.data.experimental.AUTOTUNE)\n",
    "    return ds\n",
    "\n",
    "def load_dataset(filenames, frames_per_vid):\n",
    "    print(\"frames per video:\", frames_per_vid) \n",
    "    batch_size = frames_per_vid\n",
    "\n",
    "    filenames_sampled = sampling(filenames, frames_per_vid)\n",
    "    # random.shuffle(filenames_sampled)\n",
    "    # print(len(filenames_sampled))\n",
    "\n",
    "    zipped = [list(t) for t in zip(*filenames_sampled)]\n",
    "\n",
    "    names = zipped[0]\n",
    "    labels = zipped[1]\n",
    "\n",
    "    names = tf.data.Dataset.from_tensor_slices(names)\n",
    "    images = names.map(parse_image, num_parallel_calls=tf.data.experimental.AUTOTUNE)\n",
    "\n",
    "    labels = [elem for elem in labels]\n",
    "    labels = tf.data.Dataset.from_tensor_slices(labels)\n",
    "\n",
    "    ds = tf.data.Dataset.zip((images, labels))\n",
    "    ds = configure_for_performance(ds, batch_size)\n",
    "\n",
    "    frame_number = len(filenames_sampled)\n",
    "    step_per_epoch = frame_number // batch_size\n",
    "    print('frames number:', frame_number, '\\nbatch size:', batch_size, '\\nbatch number:', step_per_epoch)\n",
    "    return ds, step_per_epoch"
   ]
  },
  {
   "cell_type": "code",
   "execution_count": 5,
   "metadata": {},
   "outputs": [
    {
     "name": "stdout",
     "output_type": "stream",
     "text": [
      "frames per video: 24\n",
      "shape frames: (112, 112, 1)\n",
      "frames number: 2688 \n",
      "batch size: 24 \n",
      "batch number: 112\n"
     ]
    }
   ],
   "source": [
    "frames_per_vid = min([len(elem) for elem in filenames_test])     # number of frames per clip in order to have balanced classes\n",
    "test_ds, step_per_epoch_test = load_dataset(filenames_test, frames_per_vid)"
   ]
  },
  {
   "cell_type": "code",
   "execution_count": 6,
   "metadata": {},
   "outputs": [
    {
     "data": {
      "text/plain": [
       "<tf.Tensor: shape=(24,), dtype=int32, numpy=\n",
       "array([1, 1, 1, 1, 1, 1, 1, 1, 1, 1, 1, 1, 1, 1, 1, 1, 1, 1, 1, 1, 1, 1,\n",
       "       1, 1])>"
      ]
     },
     "execution_count": 6,
     "metadata": {},
     "output_type": "execute_result"
    }
   ],
   "source": [
    "train_x, train_y = tf.compat.v1.data.make_one_shot_iterator(test_ds).get_next()\n",
    "train_y"
   ]
  },
  {
   "cell_type": "code",
   "execution_count": 7,
   "metadata": {},
   "outputs": [
    {
     "name": "stdout",
     "output_type": "stream",
     "text": [
      "(112, 112, 1)\n",
      "calm\n"
     ]
    },
    {
     "data": {
      "text/plain": [
       "<matplotlib.image.AxesImage at 0x2a40500cb50>"
      ]
     },
     "execution_count": 7,
     "metadata": {},
     "output_type": "execute_result"
    },
    {
     "data": {
      "image/png": "[encoded data removed]",
      "text/plain": [
       "<Figure size 432x288 with 1 Axes>"
      ]
     },
     "metadata": {
      "needs_background": "light"
     },
     "output_type": "display_data"
    }
   ],
   "source": [
    "b = test_ds.unbatch().take(1)\n",
    "\n",
    "for elem in b:\n",
    "    print(elem[0].shape)\n",
    "    print(emotions[int(elem[1])])\n",
    "plt.imshow(elem[0], cmap='gray')"
   ]
  },
  {
   "attachments": {},
   "cell_type": "markdown",
   "metadata": {},
   "source": [
    "### Load best model"
   ]
  },
  {
   "cell_type": "code",
   "execution_count": 8,
   "metadata": {},
   "outputs": [
    {
     "name": "stdout",
     "output_type": "stream",
     "text": [
      "Model: \"DCNN\"\n",
      "_________________________________________________________________\n",
      " Layer (type)                Output Shape              Param #   \n",
      "=================================================================\n",
      " conv2d_1 (Conv2D)           (None, 112, 112, 32)      832       \n",
      "                                                                 \n",
      " batchnorm_1 (BatchNormaliza  (None, 112, 112, 32)     128       \n",
      " tion)                                                           \n",
      "                                                                 \n",
      " activation (Activation)     (None, 112, 112, 32)      0         \n",
      "                                                                 \n",
      " maxpool2d_0 (MaxPooling2D)  (None, 56, 56, 32)        0         \n",
      "                                                                 \n",
      " conv2d_2 (Conv2D)           (None, 56, 56, 64)        51264     \n",
      "                                                                 \n",
      " batchnorm_2 (BatchNormaliza  (None, 56, 56, 64)       256       \n",
      " tion)                                                           \n",
      "                                                                 \n",
      " maxpool2d_1 (MaxPooling2D)  (None, 28, 28, 64)        0         \n",
      "                                                                 \n",
      " dropout_1 (Dropout)         (None, 28, 28, 64)        0         \n",
      "                                                                 \n",
      " conv2d_4 (Conv2D)           (None, 28, 28, 128)       73856     \n",
      "                                                                 \n",
      " batchnorm_4 (BatchNormaliza  (None, 28, 28, 128)      512       \n",
      " tion)                                                           \n",
      "                                                                 \n",
      " maxpool2d_2 (MaxPooling2D)  (None, 14, 14, 128)       0         \n",
      "                                                                 \n",
      " dropout_2 (Dropout)         (None, 14, 14, 128)       0         \n",
      "                                                                 \n",
      " conv2d_5 (Conv2D)           (None, 14, 14, 256)       295168    \n",
      "                                                                 \n",
      " batchnorm_5 (BatchNormaliza  (None, 14, 14, 256)      1024      \n",
      " tion)                                                           \n",
      "                                                                 \n",
      " maxpool2d_3 (MaxPooling2D)  (None, 7, 7, 256)         0         \n",
      "                                                                 \n",
      " dropout_3 (Dropout)         (None, 7, 7, 256)         0         \n",
      "                                                                 \n",
      " flatten (Flatten)           (None, 12544)             0         \n",
      "                                                                 \n",
      " dense_1 (Dense)             (None, 128)               1605760   \n",
      "                                                                 \n",
      " batchnorm_7 (BatchNormaliza  (None, 128)              512       \n",
      " tion)                                                           \n",
      "                                                                 \n",
      " dropout_4 (Dropout)         (None, 128)               0         \n",
      "                                                                 \n",
      " out_layer (Dense)           (None, 7)                 903       \n",
      "                                                                 \n",
      "=================================================================\n",
      "Total params: 2,030,215\n",
      "Trainable params: 2,028,999\n",
      "Non-trainable params: 1,216\n",
      "_________________________________________________________________\n"
     ]
    }
   ],
   "source": [
    "models_list = os.listdir(models_path)\n",
    "\n",
    "acc = [float(model.split('[')[1].split(']')[0]) for model in models_list]\n",
    "idx = acc.index(max(acc))                                                       # index of best model\n",
    "\n",
    "reconstructed_model = keras.models.load_model(models_path + models_list[idx])\n",
    "reconstructed_model.summary()"
   ]
  },
  {
   "attachments": {},
   "cell_type": "markdown",
   "metadata": {},
   "source": [
    "## Prediction"
   ]
  },
  {
   "attachments": {},
   "cell_type": "markdown",
   "metadata": {},
   "source": [
    "### Evaluate single frame"
   ]
  },
  {
   "cell_type": "code",
   "execution_count": 9,
   "metadata": {},
   "outputs": [
    {
     "name": "stdout",
     "output_type": "stream",
     "text": [
      "112/112 [==============================] - 5s 20ms/step - loss: 2.6954 - sparse_categorical_accuracy: 0.4907\n",
      "accuratezza single frame: 0.49\n"
     ]
    }
   ],
   "source": [
    "loss_single_frame, acc_single_frame = reconstructed_model.evaluate(test_ds, steps=step_per_epoch_test)\n",
    "print('accuratezza single frame:', round(acc_single_frame, 2))"
   ]
  },
  {
   "attachments": {},
   "cell_type": "markdown",
   "metadata": {},
   "source": [
    "### Evaluate full video"
   ]
  },
  {
   "cell_type": "code",
   "execution_count": 10,
   "metadata": {},
   "outputs": [
    {
     "name": "stdout",
     "output_type": "stream",
     "text": [
      "112/112 [==============================] - 1s 8ms/step\n"
     ]
    }
   ],
   "source": [
    "pred = reconstructed_model.predict(test_ds, steps=step_per_epoch_test)"
   ]
  },
  {
   "cell_type": "code",
   "execution_count": 11,
   "metadata": {},
   "outputs": [
    {
     "name": "stdout",
     "output_type": "stream",
     "text": [
      "ground truth:\t 1\n",
      "predicted:\t 3\n"
     ]
    },
    {
     "data": {
      "text/plain": [
       "array([8.7508876e-03, 2.8964874e-01, 1.2675066e-01, 1.8776638e+01,\n",
       "       1.3603467e-04, 4.7744069e+00, 2.3670249e-02], dtype=float32)"
      ]
     },
     "execution_count": 11,
     "metadata": {},
     "output_type": "execute_result"
    }
   ],
   "source": [
    "example_id = 0\n",
    "example = np.array_split(pred, num_videos)[example_id]\n",
    "\n",
    "print('ground truth:\\t', filenames_test[example_id][0][1])\n",
    "\n",
    "# print('predicted:\\t', np.median(o, axis=0).argmax())\n",
    "# print('predicted:\\t', np.sum(o, axis=0).argmax())\n",
    "print('predicted:\\t', np.mean(example, axis=0).argmax())\n",
    "np.sum(example, axis=0)"
   ]
  },
  {
   "cell_type": "code",
   "execution_count": 12,
   "metadata": {},
   "outputs": [
    {
     "name": "stdout",
     "output_type": "stream",
     "text": [
      "accuracy full video:  0.54\n"
     ]
    }
   ],
   "source": [
    "pred_list = np.array_split(pred, num_videos)\n",
    "\n",
    "i = 0\n",
    "for count, video in enumerate(pred_list):\n",
    "    if np.sum(video, axis=0).argmax() == filenames_test[count][0][1]:\n",
    "        i += 1\n",
    "\n",
    "print('accuracy full video: ', round(i/len(pred_list), 2))"
   ]
  }
 ],
 "metadata": {
  "kernelspec": {
   "display_name": "base",
   "language": "python",
   "name": "python3"
  },
  "language_info": {
   "codemirror_mode": {
    "name": "ipython",
    "version": 3
   },
   "file_extension": ".py",
   "mimetype": "text/x-python",
   "name": "python",
   "nbconvert_exporter": "python",
   "pygments_lexer": "ipython3",
   "version": "3.9.7"
  },
  "orig_nbformat": 4,
  "vscode": {
   "interpreter": {
    "hash": "ad2bdc8ecc057115af97d19610ffacc2b4e99fae6737bb82f5d7fb13d2f2c186"
   }
  }
 },
 "nbformat": 4,
 "nbformat_minor": 2
}
